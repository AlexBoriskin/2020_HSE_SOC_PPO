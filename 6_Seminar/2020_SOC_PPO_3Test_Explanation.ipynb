{
 "cells": [
  {
   "cell_type": "markdown",
   "metadata": {
    "colab_type": "text",
    "id": "6coq6VkPKjBn"
   },
   "source": [
    "# Прикладное программное обеспечение\n",
    "#### Python для извлечения и обработки данных\n",
    "\n",
    "\n",
    "## Web-scraping: таблицы\n",
    "Социлогия | 1 курс | 3 модуль | Семинар 6\n",
    "\n",
    "*Автор: Рогович, НИУ ВШЭ*"
   ]
  },
  {
   "cell_type": "markdown",
   "metadata": {
    "colab_type": "text",
    "id": "_51vTUulKjBw"
   },
   "source": [
    "Этот блокнот поможет вам разобраться, как подходить к самостоятельной работе. Один из пунктов - это скрейпинг таблицы из википедии. Посмотрим на примере, как это делать. Вы знаете из онлайн-курса как пользоваться библиотеками для доступа к сайтам по ссылкам и библиотекой BS для поиска тегов. Сегодня посмотрим пример, как сохранить таблицу из вики.\n",
    "\n",
    "Часть кода в этом блокноте закомментирована, потому что вывод очень длинный и его не очень удобно пролистывать. Когда будете пробовать сделать сами - убирайте комментарии и делайте эти выводы, чтобы лучше разобраться."
   ]
  },
  {
   "cell_type": "markdown",
   "metadata": {
    "colab_type": "text",
    "id": "B9wlRSI7KjB2"
   },
   "source": [
    "**Задание 1.**  \n",
    "*5 баллов*  \n",
    "\n",
    "1. На странице в wiki https://en.wikipedia.org/wiki/List_of_nuclear_weapons_tests нужно найти таблицу под названием \"Worldwide nuclear test with a yield of 1.4 Mt TNT equivalent and more\". \n",
    "2. С помощью поиска по тегам, нужно сохранить из таблицы следующие колонки: 'Date (GMT)', 'Yield (megatons)', 'Country'. Каждая колонка таблицы должна быть сохранена в отдельную переменную, внутри которой лежит список, где первое значение - название колонки. Например, для колонки 'Date (GMT)' список будет выглядеть так:  \n",
    "['Date (GMT)', 'October 31, 1952', ...остальные значения..., 'November 17, 1976']\n",
    "3. Выведите эти три списка командой  \n",
    "print(Dates)  \n",
    "print(Yield)  \n",
    "print(Country)"
   ]
  },
  {
   "cell_type": "code",
   "execution_count": null,
   "metadata": {
    "colab": {},
    "colab_type": "code",
    "id": "prG9uZRkKjB6"
   },
   "outputs": [],
   "source": [
    "# Ваше решение. При необходимости создавайте новые ячейки под этой с помощью знака +"
   ]
  },
  {
   "cell_type": "markdown",
   "metadata": {
    "colab_type": "text",
    "id": "K7oSd3u9KjCJ"
   },
   "source": [
    "**Задание 2.**  \n",
    "*5 баллов (каждыый шаг 1 балл)*  \n",
    "\n",
    "1. Напишите функцию, которая берет аргументом название страны и возвращает (return) среднюю мощность взрыва для этой страны (нужно сложить все значения из колонки 'Yield (megatons)', которым соответствует страна, например, США, и раделить на количество этих значений). Для подсчета используйте списки, которые вы извлекли в Задании 1. \n",
    "2. Из списка Country оставьте только уникальные значения для стран и запустите вашу функцию в цикле для каждого значения Country. Внутри цикла сделайте следующий вывод \"{название страны}: средняя мощность взрыва {средняя мощность} мегатон\"\n",
    "3. Отдельно сохраните в переменную и выведите среднюю мощность взрыва (Yield (megatons) для бомб, которые тестировались в USA.\n",
    "4. Отдельно сохраните в переменную и выведите среднюю мощность взрыва (Yield (megatons) для бомб, которые тестировались в Soviet Union.\n",
    "5. Сравните эти значения и выведите название страны, для которой средняя мощность взрыва выше.\n",
    "\n",
    "\n",
    "Задание, выполненное без использования автоматически собранных данных, не засчитывается (например, если вы скопировали все значения из таблицы вручную и нашли их среднее)."
   ]
  },
  {
   "cell_type": "code",
   "execution_count": null,
   "metadata": {
    "colab": {},
    "colab_type": "code",
    "id": "y0PaUmqZKjCM"
   },
   "outputs": [],
   "source": [
    "# Ваше решение. При необходимости создавайте новые ячейки под этой с помощью знака +\n",
    "# Функция"
   ]
  },
  {
   "cell_type": "code",
   "execution_count": null,
   "metadata": {
    "colab": {},
    "colab_type": "code",
    "id": "te9JpvMlKjCY"
   },
   "outputs": [],
   "source": [
    "# Цикл по странам"
   ]
  },
  {
   "cell_type": "code",
   "execution_count": null,
   "metadata": {
    "colab": {},
    "colab_type": "code",
    "id": "uK9STrHDKjCh"
   },
   "outputs": [],
   "source": [
    "# Значение для США"
   ]
  },
  {
   "cell_type": "code",
   "execution_count": null,
   "metadata": {
    "colab": {},
    "colab_type": "code",
    "id": "k5OXKLBdKjCu"
   },
   "outputs": [],
   "source": [
    "# Значение для СССР"
   ]
  },
  {
   "cell_type": "code",
   "execution_count": null,
   "metadata": {
    "colab": {},
    "colab_type": "code",
    "id": "WV6-klCcKjC9"
   },
   "outputs": [],
   "source": [
    "# Сравнение значений"
   ]
  },
  {
   "cell_type": "markdown",
   "metadata": {
    "colab_type": "text",
    "id": "FLvp-KL7KjEM"
   },
   "source": [
    "# Пример решения задания 1"
   ]
  },
  {
   "cell_type": "markdown",
   "metadata": {
    "colab_type": "text",
    "id": "4V_Cb2t2KjEN"
   },
   "source": [
    "Сначала мы импортируем библиотеку `requests`. Она позволяет нам просто  и удобно посылать HTTP/1.1 запросы, не утруждаясь ручным трудом."
   ]
  },
  {
   "cell_type": "code",
   "execution_count": 2,
   "metadata": {
    "colab": {},
    "colab_type": "code",
    "id": "GCHfTwnWKjEO"
   },
   "outputs": [],
   "source": [
    "import requests"
   ]
  },
  {
   "cell_type": "markdown",
   "metadata": {
    "colab_type": "text",
    "id": "PyXOofPIKjET"
   },
   "source": [
    "Теперь мы должны указать адрес страницы с которой мы будем скрейпить данные и сохраним ее в переменную `website_url`.\n",
    "`requests.get(url).text` обратиться к сайту и вернет `HTML` код сайта."
   ]
  },
  {
   "cell_type": "code",
   "execution_count": 12,
   "metadata": {
    "colab": {
     "base_uri": "https://localhost:8080/",
     "height": 54
    },
    "colab_type": "code",
    "id": "x2WEjHmOKjEU",
    "outputId": "12930b62-1106-4505-c841-ff4660314201"
   },
   "outputs": [],
   "source": [
    "website_url = requests.get('https://en.wikipedia.org/wiki/List_of_nuclear_weapons_tests').text\n",
    "# print(website_url)"
   ]
  },
  {
   "cell_type": "markdown",
   "metadata": {
    "colab_type": "text",
    "id": "bT9LVvyEKjEX"
   },
   "source": [
    "Как мы видим, весь код представлен просто блоком текста, который неудобно читать и разбирать. Поэтому мы создадим объект `BeautifulSoup` с помощью функциии `BeautifulSoup`, предварительно импортировав саму библиотеку. `Beautiful Soup` это библиотека для парсинга `HTML` и `XML` документов. Она создает дерево из `HTML` кода, что очень полезно при скрейпинге. Функция `prettify()` позволяет видеть код в более удобном виде, в том числе с разбивкой по тегам."
   ]
  },
  {
   "cell_type": "code",
   "execution_count": 4,
   "metadata": {
    "colab": {
     "base_uri": "https://localhost:8080/",
     "height": 1000
    },
    "colab_type": "code",
    "id": "hRGbPlOgKjEZ",
    "outputId": "2aa7d599-9c1e-4b4f-9e20-dc9a30022fac"
   },
   "outputs": [],
   "source": [
    "from bs4 import BeautifulSoup\n",
    "\n",
    "soup = BeautifulSoup(website_url,'lxml')\n",
    "\n",
    "# print(soup.prettify())"
   ]
  },
  {
   "cell_type": "markdown",
   "metadata": {
    "colab_type": "text",
    "id": "KzzCs4YwKjEe"
   },
   "source": [
    "Если внимательно изучить код `HTML` искомой таблицы, то можно обнаружить что вся таблица находится в классе `Wikitable Sortable` (для включения отображения кода сайта в вашем браузере можно нажать правкой кнопкой мыши на таблицы и выбрать пункт *Исследовать элемент*)."
   ]
  },
  {
   "cell_type": "markdown",
   "metadata": {
    "colab_type": "text",
    "id": "hCvv4E0IKjEf"
   },
   "source": [
    "![title](table.png)"
   ]
  },
  {
   "cell_type": "markdown",
   "metadata": {
    "colab_type": "text",
    "id": "F6ggqHkBKjEg"
   },
   "source": [
    "Поэтому первой задачей будет найти класс *wikitable sortable* в коде `HTML`. Это можно сделать с помощью функции `find_all`, указав в качестве аргументов, что мы ищем тэг `table` с классом `wikitable sortable`."
   ]
  },
  {
   "cell_type": "code",
   "execution_count": 5,
   "metadata": {
    "colab": {
     "base_uri": "https://localhost:8080/",
     "height": 1000
    },
    "colab_type": "code",
    "id": "JxwjvVxxKjEh",
    "outputId": "de27b6e0-0669-411f-999c-5289774e175a"
   },
   "outputs": [],
   "source": [
    "My_table = soup.find_all('table',{'class':'wikitable sortable'})\n",
    "# My_table"
   ]
  },
  {
   "cell_type": "markdown",
   "metadata": {
    "colab_type": "text",
    "id": "nQZZEFpUKjEn"
   },
   "source": [
    "Но как вы могли заметить, то на страницы есть две таблицы, которые принадлежат этому классу. Функция `find_all` вернет все найденные объекты в виде списка. Поэтому проверим второй найденный элемент."
   ]
  },
  {
   "cell_type": "code",
   "execution_count": 6,
   "metadata": {
    "colab": {
     "base_uri": "https://localhost:8080/",
     "height": 1000
    },
    "colab_type": "code",
    "id": "p3SqtX1DKjEp",
    "outputId": "e12724cd-15d1-4df1-82db-1c59c0cfd688"
   },
   "outputs": [],
   "source": [
    "# My_table[1]"
   ]
  },
  {
   "cell_type": "markdown",
   "metadata": {
    "colab_type": "text",
    "id": "FkYcIKRTKjEv"
   },
   "source": [
    "Все верно, это наша искомая таблица. Если дальше изучить содержимое таблицы, то станет понятно что внутри тега `th` находится заголовок таблицы, а внутри `td` строки таблицы. А оба этих тега находятся внутри тегов `tr` что является по факту строкой таблицы. Давайте извлечем все строки таблицы также используя функцию `find_all`."
   ]
  },
  {
   "cell_type": "code",
   "execution_count": 8,
   "metadata": {
    "colab": {
     "base_uri": "https://localhost:8080/",
     "height": 1000
    },
    "colab_type": "code",
    "id": "F5QYpbNzKjEw",
    "outputId": "2e60d107-6b57-4221-a612-a6899fa07bc1"
   },
   "outputs": [],
   "source": [
    "rows = My_table[1].find_all('tr')\n",
    "# print(rows)"
   ]
  },
  {
   "cell_type": "markdown",
   "metadata": {
    "colab_type": "text",
    "id": "mZQYvyv4KjE2"
   },
   "source": [
    "Давайте внимательно изучим содержимое одной строки, вытащим все `td`. Отобразим вторую строчку:"
   ]
  },
  {
   "cell_type": "code",
   "execution_count": 9,
   "metadata": {
    "colab": {
     "base_uri": "https://localhost:8080/",
     "height": 137
    },
    "colab_type": "code",
    "id": "OYHYLlvKKjE3",
    "outputId": "a6d852aa-5ae5-4488-bacd-a2d93fe2691c"
   },
   "outputs": [
    {
     "data": {
      "text/plain": [
       "[<td>October 30, 1961</td>,\n",
       " <td>50</td>,\n",
       " <td>parachute air drop</td>,\n",
       " <td>Soviet Union</td>,\n",
       " <td><a href=\"/wiki/Novaya_Zemlya\" title=\"Novaya Zemlya\">Novaya Zemlya</a></td>,\n",
       " <td><a href=\"/wiki/Tsar_Bomba\" title=\"Tsar Bomba\">Tsar Bomba</a>, Test #130\n",
       " </td>]"
      ]
     },
     "execution_count": 9,
     "metadata": {},
     "output_type": "execute_result"
    }
   ],
   "source": [
    "rows[1].find_all('td')"
   ]
  },
  {
   "cell_type": "markdown",
   "metadata": {
    "colab_type": "text",
    "id": "ytmoYTZfKjE8"
   },
   "source": [
    "Мы видим нужные нам данные между тегов `<td><\\td>`, а также ссылки с тегом `<a>` и даже смешанные ячейки с обоими этими вариантами. Давайте сначала извлечем просто данные. Для этого используем функцию `get_text()` - она вернет все что между тегами."
   ]
  },
  {
   "cell_type": "markdown",
   "metadata": {
    "colab_type": "text",
    "id": "qCNsBY7FKjE9"
   },
   "source": [
    "Возьмем, например, дату (она будет первым элементом):"
   ]
  },
  {
   "cell_type": "code",
   "execution_count": 13,
   "metadata": {
    "colab": {
     "base_uri": "https://localhost:8080/",
     "height": 34
    },
    "colab_type": "code",
    "id": "7N3ERSqEKjE-",
    "outputId": "0c36a552-5199-42c5-babb-19034055989b"
   },
   "outputs": [
    {
     "data": {
      "text/plain": [
       "'October 30, 1961'"
      ]
     },
     "execution_count": 13,
     "metadata": {},
     "output_type": "execute_result"
    }
   ],
   "source": [
    "rows[1].find_all('td')[0].get_text()"
   ]
  },
  {
   "cell_type": "markdown",
   "metadata": {
    "colab_type": "text",
    "id": "NKExPVoTKjFC"
   },
   "source": [
    "Единственное, нам нужно отдельно обработать, это первую строку, в которой хранится заголовок ряда (table header)"
   ]
  },
  {
   "cell_type": "code",
   "execution_count": 14,
   "metadata": {
    "colab": {
     "base_uri": "https://localhost:8080/",
     "height": 34
    },
    "colab_type": "code",
    "id": "D6FMSQ24KjFD",
    "outputId": "67c3f383-2f87-4568-e655-028de61c7964"
   },
   "outputs": [
    {
     "data": {
      "text/plain": [
       "'Date (GMT)\\n'"
      ]
     },
     "execution_count": 14,
     "metadata": {},
     "output_type": "execute_result"
    }
   ],
   "source": [
    "rows[0].find_all('th')[0].get_text()"
   ]
  },
  {
   "cell_type": "markdown",
   "metadata": {
    "colab_type": "text",
    "id": "fF_onkH1KjFH"
   },
   "source": [
    "Все классно, только давайте избавимся от знака переноса строки."
   ]
  },
  {
   "cell_type": "code",
   "execution_count": 15,
   "metadata": {
    "colab": {
     "base_uri": "https://localhost:8080/",
     "height": 34
    },
    "colab_type": "code",
    "id": "o7VP8de2KjFI",
    "outputId": "802f3948-1b76-4040-c081-10e2f08c3904"
   },
   "outputs": [
    {
     "data": {
      "text/plain": [
       "'Date (GMT)'"
      ]
     },
     "execution_count": 15,
     "metadata": {},
     "output_type": "execute_result"
    }
   ],
   "source": [
    "rows[0].find_all('th')[0].get_text().strip()"
   ]
  },
  {
   "cell_type": "markdown",
   "metadata": {
    "colab_type": "text",
    "id": "T6KWXg1DKjFM"
   },
   "source": [
    "Вообще хорошая идея всегда использовать метод strip(), чтобы удалять такие знаки (если удалять нечего, ошибку он не выдаст)."
   ]
  },
  {
   "cell_type": "markdown",
   "metadata": {
    "colab_type": "text",
    "id": "UzfvB4coKjFN"
   },
   "source": [
    "Давайте теперь извлечем все даты. Создадим список для их хранения `Dates` и будет итерироваться по всем элементам:"
   ]
  },
  {
   "cell_type": "code",
   "execution_count": 24,
   "metadata": {
    "colab": {
     "base_uri": "https://localhost:8080/",
     "height": 1000
    },
    "colab_type": "code",
    "id": "TaORSTo3KjFO",
    "outputId": "98f1d75e-7588-42e1-8b53-9794c0eae984"
   },
   "outputs": [
    {
     "name": "stdout",
     "output_type": "stream",
     "text": [
      "['Date (GMT)', 'October 30, 1961', 'December 24, 1962', 'August 5, 1962', 'September 27, 1962', 'September 25, 1962', 'March 1, 1954', 'May 5, 1954', 'October 23, 1961', 'March 26, 1954', 'October 31, 1952', 'August 25, 1962', 'September 19, 1962', 'July 11, 1958', 'June 28, 1958', 'October 30, 1962', 'October 22, 1962', 'June 27, 1962', 'April 25, 1954', 'July 20, 1956', 'October 31, 1961', 'November 6, 1971', 'July 10, 1956', 'August 27, 1962', 'October 6, 1961', 'October 27, 1973', 'November 17, 1976', 'July 11, 1962', 'May 20, 1956', 'August 1, 1958', 'August 12, 1958', 'September 12, 1973', 'May 27, 1956', 'October 14, 1970', 'September 16, 1962', 'June 17, 1967', 'September 15, 1962', 'December 25, 1962', 'April 28, 1958', 'October 4, 1961', 'June 10, 1962', 'December 27, 1968', 'September 29, 1969', 'June 27, 1973', 'October 6, 1957', 'October 18, 1958', 'October 22, 1958', 'August 20, 1962', 'September 10, 1961', 'August 24, 1968', 'September 27, 1971', 'September 21, 1962', 'November 2, 1974', 'October 14, 1970', 'July 26, 1958', 'July 8, 1956', 'September 8, 1962', 'March 26, 1970', 'November 8, 1957', 'May 13, 1954', 'November 22, 1955', 'September 24, 1957', 'August 22, 1962', 'October 18, 1962', 'February 27, 1958', 'June 14, 1958', 'October 12, 1958', 'October 15, 1958', 'September 20, 1961', 'October 20, 1961', 'November 4, 1961', 'May 11, 1958', 'May 12, 1958', 'July 9, 1962', 'September 18, 1962']\n"
     ]
    }
   ],
   "source": [
    "Dates = []\n",
    "\n",
    "Dates.append(rows[0].find_all('th')[0].get_text().strip()) # отдельно добавляем заголовок\n",
    "\n",
    "for row in rows[1:]: # начинаем со второго ряда таблицы, потому что 0 уже обработали выше\n",
    "    r = row.find_all('td') # находим все теги td для строки таблицы\n",
    "    Dates.append(r[0].get_text().strip()) # сохраняем данные в наш список\n",
    "\n",
    "print(Dates)"
   ]
  },
  {
   "cell_type": "markdown",
   "metadata": {
    "colab_type": "text",
    "id": "lrWAxB80KjFR"
   },
   "source": [
    "Ок! Следующие колонки, которые нам нужны - мощность взрыва и страна. Давайте поймем, где их искать."
   ]
  },
  {
   "cell_type": "code",
   "execution_count": 17,
   "metadata": {
    "colab": {
     "base_uri": "https://localhost:8080/",
     "height": 241
    },
    "colab_type": "code",
    "id": "yxBedDPLKjFS",
    "outputId": "e284fd84-b244-477d-d8a1-5e43fa723ab1"
   },
   "outputs": [
    {
     "data": {
      "text/plain": [
       "<tr>\n",
       "<th>Date (GMT)\n",
       "</th>\n",
       "<th>Yield (megatons)\n",
       "</th>\n",
       "<th>Deployment\n",
       "</th>\n",
       "<th>Country\n",
       "</th>\n",
       "<th>Test Site\n",
       "</th>\n",
       "<th>Name or Number\n",
       "</th></tr>"
      ]
     },
     "execution_count": 17,
     "metadata": {},
     "output_type": "execute_result"
    }
   ],
   "source": [
    "rows[0]"
   ]
  },
  {
   "cell_type": "markdown",
   "metadata": {
    "colab_type": "text",
    "id": "qWwWexaeKjFV"
   },
   "source": [
    "Видим, что Yield вторая колонка, а страна третья. Соберем их в отдельные списки по той же схеме, что дату. Но сначала проверим, что правильно посчитали номера."
   ]
  },
  {
   "cell_type": "code",
   "execution_count": 18,
   "metadata": {
    "colab": {
     "base_uri": "https://localhost:8080/",
     "height": 51
    },
    "colab_type": "code",
    "id": "U_wHxWlqKjFX",
    "outputId": "8a4c6e2d-8d52-4400-befd-e064801c9c84"
   },
   "outputs": [
    {
     "data": {
      "text/plain": [
       "<th>Yield (megatons)\n",
       "</th>"
      ]
     },
     "execution_count": 18,
     "metadata": {},
     "output_type": "execute_result"
    }
   ],
   "source": [
    "rows[0].find_all('th')[1]"
   ]
  },
  {
   "cell_type": "code",
   "execution_count": 19,
   "metadata": {
    "colab": {
     "base_uri": "https://localhost:8080/",
     "height": 51
    },
    "colab_type": "code",
    "id": "HcuXz-LsKjFa",
    "outputId": "3c310980-37d9-440a-d48d-2abb1ef672a8"
   },
   "outputs": [
    {
     "data": {
      "text/plain": [
       "<th>Country\n",
       "</th>"
      ]
     },
     "execution_count": 19,
     "metadata": {},
     "output_type": "execute_result"
    }
   ],
   "source": [
    "rows[0].find_all('th')[3]"
   ]
  },
  {
   "cell_type": "markdown",
   "metadata": {
    "colab_type": "text",
    "id": "Fh9zlgKKKjFe"
   },
   "source": [
    "Вроде все правильно. Единственно, не забудем хранить числа как float"
   ]
  },
  {
   "cell_type": "code",
   "execution_count": 22,
   "metadata": {
    "colab": {
     "base_uri": "https://localhost:8080/",
     "height": 1000
    },
    "colab_type": "code",
    "id": "iHUOvwyLKjFf",
    "outputId": "8495bf4c-e9ee-4b18-cbc7-0cc010e14062"
   },
   "outputs": [
    {
     "name": "stdout",
     "output_type": "stream",
     "text": [
      "['Yield (megatons)', 50.0, 24.2, 21.1, 20.0, 19.1, 15.0, 13.5, 12.5, 11.0, 10.4, 10.0, 10.0, 9.3, 8.9, 8.3, 8.2, 7.7, 6.9, 5.0, 5.0, 4.8, 4.5, 4.2, 4.0, 4.0, 4.0, 3.9, 3.8, 3.8, 3.8, 3.8, 3.5, 3.4, 3.3, 3.3, 3.1, 3.1, 3.0, 3.0, 3.0, 3.0, 3.0, 3.0, 2.9, 2.9, 2.8, 2.8, 2.7, 2.6, 2.5, 2.4, 2.3, 2.2, 2.0, 1.9, 1.9, 1.9, 1.8, 1.7, 1.6, 1.6, 1.6, 1.6, 1.5, 1.5, 1.5, 1.5, 1.5, 1.5, 1.5, 1.4, 1.4, 1.4, 1.4]\n"
     ]
    }
   ],
   "source": [
    "Yield = []\n",
    "\n",
    "Yield.append(rows[0].find_all('th')[1].get_text().strip()) # отдельно добавляем заголовок\n",
    "\n",
    "for row in rows[1:]: # начинаем со второго ряда таблицы, потому что 0 уже обработали выше\n",
    "    r = row.find_all('td') # находим все теги td для строки таблицы\n",
    "    Yield.append(float(r[1].get_text().strip())) # сохраняем данные в наш список и переводим в float\n",
    "\n",
    "print(Yield)"
   ]
  },
  {
   "cell_type": "code",
   "execution_count": 23,
   "metadata": {
    "colab": {
     "base_uri": "https://localhost:8080/",
     "height": 1000
    },
    "colab_type": "code",
    "id": "cAjfGoVAKjFh",
    "outputId": "d929d3ea-d267-4f1c-bf48-181ccc794e73"
   },
   "outputs": [
    {
     "name": "stdout",
     "output_type": "stream",
     "text": [
      "['Country', 'Soviet Union', 'Soviet Union', 'Soviet Union', 'Soviet Union', 'Soviet Union', 'USA', 'USA', 'Soviet Union', 'USA', 'USA', 'Soviet Union', 'Soviet Union', 'USA', 'USA', 'USA', 'Soviet Union', 'USA', 'USA', 'USA', 'Soviet Union', 'USA', 'USA', 'Soviet Union', 'Soviet Union', 'Soviet Union', 'China', 'USA', 'USA', 'USA', 'USA', 'Soviet Union', 'USA', 'China', 'Soviet Union', 'China', 'Soviet Union', 'Soviet Union', 'UK', 'Soviet Union', 'USA', 'China', 'China', 'China', 'Soviet Union', 'Soviet Union', 'Soviet Union', 'Soviet Union', 'Soviet Union', 'France', 'Soviet Union', 'Soviet Union', 'Soviet Union', 'Soviet Union', 'USA', 'USA', 'Soviet Union', 'USA', 'UK', 'USA', 'Soviet Union', 'Soviet Union', 'Soviet Union', 'USA', 'Soviet Union', 'USA', 'Soviet Union', 'Soviet Union', 'Soviet Union', 'Soviet Union', 'Soviet Union', 'USA', 'USA', 'USA', 'Soviet Union']\n"
     ]
    }
   ],
   "source": [
    "Country = []\n",
    "\n",
    "Country.append(rows[0].find_all('th')[3].get_text().strip()) # отдельно добавляем заголовок\n",
    "\n",
    "for row in rows[1:]: # начинаем со второго ряда таблицы, потому что 0 уже обработали выше\n",
    "    r = row.find_all('td') # находим все теги td для строки таблицы\n",
    "    Country.append(r[3].get_text().strip()) # сохраняем данные в наш список и переводим в float\n",
    "\n",
    "print(Country)"
   ]
  },
  {
   "cell_type": "code",
   "execution_count": 21,
   "metadata": {
    "colab": {
     "base_uri": "https://localhost:8080/",
     "height": 89
    },
    "colab_type": "code",
    "id": "MHhQI6fWKjFj",
    "outputId": "882ac651-3270-4007-a59e-f5abf44a3660"
   },
   "outputs": [
    {
     "name": "stdout",
     "output_type": "stream",
     "text": [
      "['Date (GMT)', 'October 30, 1961', 'December 24, 1962', 'August 5, 1962', 'September 27, 1962', 'September 25, 1962', 'March 1, 1954', 'May 5, 1954', 'October 23, 1961', 'March 26, 1954', 'October 31, 1952', 'August 25, 1962', 'September 19, 1962', 'July 11, 1958', 'June 28, 1958', 'October 30, 1962', 'October 22, 1962', 'June 27, 1962', 'April 25, 1954', 'July 20, 1956', 'October 31, 1961', 'November 6, 1971', 'July 10, 1956', 'August 27, 1962', 'October 6, 1961', 'October 27, 1973', 'November 17, 1976', 'July 11, 1962', 'May 20, 1956', 'August 1, 1958', 'August 12, 1958', 'September 12, 1973', 'May 27, 1956', 'October 14, 1970', 'September 16, 1962', 'June 17, 1967', 'September 15, 1962', 'December 25, 1962', 'April 28, 1958', 'October 4, 1961', 'June 10, 1962', 'December 27, 1968', 'September 29, 1969', 'June 27, 1973', 'October 6, 1957', 'October 18, 1958', 'October 22, 1958', 'August 20, 1962', 'September 10, 1961', 'August 24, 1968', 'September 27, 1971', 'September 21, 1962', 'November 2, 1974', 'October 14, 1970', 'July 26, 1958', 'July 8, 1956', 'September 8, 1962', 'March 26, 1970', 'November 8, 1957', 'May 13, 1954', 'November 22, 1955', 'September 24, 1957', 'August 22, 1962', 'October 18, 1962', 'February 27, 1958', 'June 14, 1958', 'October 12, 1958', 'October 15, 1958', 'September 20, 1961', 'October 20, 1961', 'November 4, 1961', 'May 11, 1958', 'May 12, 1958', 'July 9, 1962', 'September 18, 1962']\n",
      "['Yield (megatons)', 50.0, 24.2, 21.1, 20.0, 19.1, 15.0, 13.5, 12.5, 11.0, 10.4, 10.0, 10.0, 9.3, 8.9, 8.3, 8.2, 7.7, 6.9, 5.0, 5.0, 4.8, 4.5, 4.2, 4.0, 4.0, 4.0, 3.9, 3.8, 3.8, 3.8, 3.8, 3.5, 3.4, 3.3, 3.3, 3.1, 3.1, 3.0, 3.0, 3.0, 3.0, 3.0, 3.0, 2.9, 2.9, 2.8, 2.8, 2.7, 2.6, 2.5, 2.4, 2.3, 2.2, 2.0, 1.9, 1.9, 1.9, 1.8, 1.7, 1.6, 1.6, 1.6, 1.6, 1.5, 1.5, 1.5, 1.5, 1.5, 1.5, 1.5, 1.4, 1.4, 1.4, 1.4]\n",
      "['Country', 'Soviet Union', 'Soviet Union', 'Soviet Union', 'Soviet Union', 'Soviet Union', 'USA', 'USA', 'Soviet Union', 'USA', 'USA', 'Soviet Union', 'Soviet Union', 'USA', 'USA', 'USA', 'Soviet Union', 'USA', 'USA', 'USA', 'Soviet Union', 'USA', 'USA', 'Soviet Union', 'Soviet Union', 'Soviet Union', 'China', 'USA', 'USA', 'USA', 'USA', 'Soviet Union', 'USA', 'China', 'Soviet Union', 'China', 'Soviet Union', 'Soviet Union', 'UK', 'Soviet Union', 'USA', 'China', 'China', 'China', 'Soviet Union', 'Soviet Union', 'Soviet Union', 'Soviet Union', 'Soviet Union', 'France', 'Soviet Union', 'Soviet Union', 'Soviet Union', 'Soviet Union', 'USA', 'USA', 'Soviet Union', 'USA', 'UK', 'USA', 'Soviet Union', 'Soviet Union', 'Soviet Union', 'USA', 'Soviet Union', 'USA', 'Soviet Union', 'Soviet Union', 'Soviet Union', 'Soviet Union', 'Soviet Union', 'USA', 'USA', 'USA', 'Soviet Union']\n"
     ]
    }
   ],
   "source": [
    "print(Dates)\n",
    "print(Yield)\n",
    "print(Country)"
   ]
  },
  {
   "cell_type": "markdown",
   "metadata": {
    "colab_type": "text",
    "id": "sOGC8QvBKjFl"
   },
   "source": [
    "# Пример решения задания 2"
   ]
  },
  {
   "cell_type": "markdown",
   "metadata": {
    "colab_type": "text",
    "id": "Lp5wi55DKjFm"
   },
   "source": [
    "1. Напишите функцию, которая берет аргументом название страны и возвращает (return) среднюю мощность взрыва для этой страны (нужно сложить все значения из колонки 'Yield (megatons)', которым соответствует страна, например, США, и раделить на количество этих значений). Для подсчета используйте списки, которые вы извлекли в Задании 1. \n",
    "2. Из списка Country оставьте только уникальные значения для стран и запустите вашу функцию в цикле для каждого значения Country. Внутри цикла сделайте следующий вывод \"{название страны}: средняя мощность взрыва {средняя мощность} мегатон\"\n",
    "3. Отдельно сохраните в переменную и выведите среднюю мощность взрыва (Yield (megatons) для бомб, которые тестировались в USA.\n",
    "4. Отдельно сохраните в переменную и выведите среднюю мощность взрыва (Yield (megatons) для бомб, которые тестировались в Soviet Union.\n",
    "5. Сравните эти значения и выведите название страны, для которой средняя мощность взрыва выше."
   ]
  },
  {
   "cell_type": "code",
   "execution_count": 25,
   "metadata": {
    "colab": {},
    "colab_type": "code",
    "id": "AjvuRuV5KjFn"
   },
   "outputs": [],
   "source": [
    "# 1\n",
    "def average_yield(country):\n",
    "  yield_sum = 0 # создаем счетчитк, в который будем приплюсовывать мощность каждого испытания в заданной стране\n",
    "  yield_count = 0 # создаем счетчик, в котором будем хранить количество испытаний\n",
    "  for idx in range(len(Country)): # запускаем цикл для всех значений индексов списка Country\n",
    "    if Country[idx] == country:   # проверяем, равно ли значение в списке Country стране, для которой вызвана функция\n",
    "      yield_sum += Yield[idx]     # если да, то добавляем мощность взрыва под этим же индексом\n",
    "      yield_count += 1            # считаем это исптание\n",
    "  return yield_sum / yield_count  # после окончания работы цикла возвращаем среднюю мощность"
   ]
  },
  {
   "cell_type": "code",
   "execution_count": 26,
   "metadata": {
    "colab": {
     "base_uri": "https://localhost:8080/",
     "height": 103
    },
    "colab_type": "code",
    "id": "9SCRs4utYkM_",
    "outputId": "e3cb3341-a75d-4b13-a029-ed27d62f178e"
   },
   "outputs": [
    {
     "name": "stdout",
     "output_type": "stream",
     "text": [
      "Soviet Union : средняя мощность взрыва 6.557894736842106 мегатон\n",
      "UK : средняя мощность взрыва 2.4 мегатон\n",
      "China : средняя мощность взрыва 3.283333333333333 мегатон\n",
      "USA : средняя мощность взрыва 5.255555555555556 мегатон\n",
      "France : средняя мощность взрыва 2.6 мегатон\n"
     ]
    }
   ],
   "source": [
    "# 2\n",
    "for country in set(Country[1:]): # чтобы оставить только уникальные значения - делаем множество из списка + с помощью среза избавляемся от от заголовка колонки под индексом [0]\n",
    "  print(country, ': средняя мощность взрыва', average_yield(country), 'мегатон')"
   ]
  },
  {
   "cell_type": "code",
   "execution_count": 27,
   "metadata": {
    "colab": {
     "base_uri": "https://localhost:8080/",
     "height": 34
    },
    "colab_type": "code",
    "id": "gcmB_lfTYq5D",
    "outputId": "06f7ebfb-f12c-4550-ce57-cefac7114c1c"
   },
   "outputs": [
    {
     "name": "stdout",
     "output_type": "stream",
     "text": [
      "6.557894736842106 5.255555555555556\n"
     ]
    }
   ],
   "source": [
    "# 3, 4\n",
    "yield_ussr = average_yield('Soviet Union')\n",
    "yield_usa = average_yield('USA')\n",
    "\n",
    "print(yield_ussr, yield_usa)\n",
    "\n"
   ]
  },
  {
   "cell_type": "code",
   "execution_count": 28,
   "metadata": {
    "colab": {
     "base_uri": "https://localhost:8080/",
     "height": 34
    },
    "colab_type": "code",
    "id": "shRI3eW3ZkTz",
    "outputId": "141b3dc5-8d63-46fc-8750-d56dbf6120e7"
   },
   "outputs": [
    {
     "name": "stdout",
     "output_type": "stream",
     "text": [
      "Soviet Union\n"
     ]
    }
   ],
   "source": [
    "# 5\n",
    "if yield_ussr > yield_usa:\n",
    "  print('Soviet Union')\n",
    "else:\n",
    "  print('USA')"
   ]
  }
 ],
 "metadata": {
  "colab": {
   "collapsed_sections": [],
   "name": "RISO_Exam.ipynb",
   "provenance": []
  },
  "kernelspec": {
   "display_name": "Python 3",
   "language": "python",
   "name": "python3"
  },
  "language_info": {
   "codemirror_mode": {
    "name": "ipython",
    "version": 3
   },
   "file_extension": ".py",
   "mimetype": "text/x-python",
   "name": "python",
   "nbconvert_exporter": "python",
   "pygments_lexer": "ipython3",
   "version": "3.6.5"
  }
 },
 "nbformat": 4,
 "nbformat_minor": 2
}
